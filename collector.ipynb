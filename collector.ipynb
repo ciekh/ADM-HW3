{
 "cells": [
  {
   "cell_type": "code",
   "execution_count": 3,
   "metadata": {},
   "outputs": [],
   "source": [
    "import random\n",
    "import time\n",
    "from bs4 import BeautifulSoup\n",
    "import os\n",
    "import urllib\n",
    "url = 'https://raw.githubusercontent.com/CriMenghini/ADM/master/2019/Homework_3/data/movies3.html'\n",
    "response = requests.get(url)\n",
    "soup = BeautifulSoup(response.text, 'html.parser')\n",
    "os.chdir(r'C:\\Users\\cecco\\Desktop\\PagWeb')"
   ]
  },
  {
   "cell_type": "code",
   "execution_count": null,
   "metadata": {},
   "outputs": [],
   "source": [
    "lst = []\n",
    "i = 0\n",
    "for link in soup.find_all('a'):\n",
    "    x = link.get('href')\n",
    "    lst.append(x)\n",
    "for v in lst:\n",
    "    try:\n",
    "        url = v\n",
    "        response = urllib.request.urlopen(url)\n",
    "        c = \"article_\" + str(i)\n",
    "        webContent = response.read()\n",
    "        f = open(c + '.html', 'wb')\n",
    "        f.write(webContent)\n",
    "        f.close\n",
    "        time.sleep(random.randint(1,5))\n",
    "    except requests.exceptions.Timeout:\n",
    "        time.sleep(1200)\n",
    "        url = v\n",
    "        response = urllib.request.urlopen(url)\n",
    "        c = \"article_\" + str(i)\n",
    "        webContent = response.read()\n",
    "        f = open(c + '.html', 'wb')\n",
    "        f.write(webContent)\n",
    "        f.close\n",
    "        time.sleep(random.randint(1,5))\n",
    "    except Exception as e:\n",
    "        continue\n",
    "    finally:\n",
    "        i += 1\n",
    "    "
   ]
  },
  {
   "cell_type": "code",
   "execution_count": null,
   "metadata": {},
   "outputs": [],
   "source": []
  }
 ],
 "metadata": {
  "kernelspec": {
   "display_name": "Python 3",
   "language": "python",
   "name": "python3"
  },
  "language_info": {
   "codemirror_mode": {
    "name": "ipython",
    "version": 3
   },
   "file_extension": ".py",
   "mimetype": "text/x-python",
   "name": "python",
   "nbconvert_exporter": "python",
   "pygments_lexer": "ipython3",
   "version": "3.7.3"
  }
 },
 "nbformat": 4,
 "nbformat_minor": 2
}
