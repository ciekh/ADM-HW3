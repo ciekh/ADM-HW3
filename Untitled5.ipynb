{
 "cells": [
  {
   "cell_type": "code",
   "execution_count": 12,
   "metadata": {},
   "outputs": [],
   "source": [
    "# df is the result from the step 2.1\n",
    "import csv\n",
    "import pandas as pd\n",
    "import numpy as np\n",
    "df=pd.read_csv(r\"C:\\Users\\shekoufeh\\Desktop\\ADM-HW3-master\\article_0.tsv\",sep=\"\\t\")    "
   ]
  },
  {
   "cell_type": "code",
   "execution_count": 39,
   "metadata": {},
   "outputs": [],
   "source": [
    "# The input of the function has to be the result from the step 2.1 that contains all the columns\n",
    "\n",
    "def ranking_score(df):# when we have the film name\n",
    "    w1=[0.8,0.1,0.05,0.05]\n",
    "    #when we don't have the film name\n",
    "    w2=[0.0,0.5,0.2,0.3]\n",
    "    # Requesting inputs from user.\n",
    "    Film_name=input(\"If you are looking for special movie enter the film name otherwise enter space:\\n \")\n",
    "    Starring=input(\"If you are looking for actor enter the actor name otherwise enter space:\\n \")\n",
    "    Director=input(\"If you are looking for special movie Director enter the Director name otherwise enter space:\\n \")\n",
    "    language=input(\" what is your preferred language:? \\n \")\n",
    "    if language=='':\n",
    "        language='English'\n",
    "    for i in range(len(df)):\n",
    "        s=[0,0,0,0]\n",
    "        try:\n",
    "            if Film_name !='':\n",
    "                if df.loc[i,'film_name'].lower().find(Film_name.lower())!=-1:\n",
    "                    s[0]=1\n",
    "        except:\n",
    "            continue\n",
    "        try:\n",
    "            if Starring !='':\n",
    "                if df.loc[i,'starring'].lower().find(Starring.lower())!=-1:\n",
    "                    s[1]=1\n",
    "        except:\n",
    "            continue          \n",
    "        try:\n",
    "            if Director !='':\n",
    "                if df.loc[i,'director'].lower().find(Director.lower())!=-1:\n",
    "                    s[2]=1\n",
    "        except:\n",
    "            continue\n",
    "        try:\n",
    "            if language !='':\n",
    "                if df.loc[i,'language'].lower().find(language.lower())!=-1:\n",
    "                    s[3]=1\n",
    "        except:\n",
    "            continue\n",
    "        finally:\n",
    "            if Film_name =='':\n",
    "                DotProduct = np.dot(s,w2)\n",
    "                df.loc[i,'Score']=DotProduct\n",
    "            else:\n",
    "                DotProduct = np.dot(s,w1)\n",
    "                df.loc[i,'Score']=DotProduct\n",
    "    return(df)"
   ]
  },
  {
   "cell_type": "code",
   "execution_count": 40,
   "metadata": {},
   "outputs": [
    {
     "name": "stdout",
     "output_type": "stream",
     "text": [
      "If you are looking for special movie enter the film name otherwise enter space:\n",
      " love\n",
      "If you are looking for actor enter the actor name otherwise enter space:\n",
      " \n",
      "If you are looking for special movie Director enter the Director name otherwise enter space:\n",
      " \n",
      " what is your preferred language:? \n",
      " \n"
     ]
    }
   ],
   "source": [
    "result=ranking_score(df)"
   ]
  },
  {
   "cell_type": "code",
   "execution_count": 41,
   "metadata": {},
   "outputs": [
    {
     "data": {
      "text/html": [
       "<div>\n",
       "<style scoped>\n",
       "    .dataframe tbody tr th:only-of-type {\n",
       "        vertical-align: middle;\n",
       "    }\n",
       "\n",
       "    .dataframe tbody tr th {\n",
       "        vertical-align: top;\n",
       "    }\n",
       "\n",
       "    .dataframe thead th {\n",
       "        text-align: right;\n",
       "    }\n",
       "</style>\n",
       "<table border=\"1\" class=\"dataframe\">\n",
       "  <thead>\n",
       "    <tr style=\"text-align: right;\">\n",
       "      <th></th>\n",
       "      <th>title</th>\n",
       "      <th>intro</th>\n",
       "      <th>plot</th>\n",
       "      <th>film_name</th>\n",
       "      <th>director</th>\n",
       "      <th>producer</th>\n",
       "      <th>written</th>\n",
       "      <th>starring</th>\n",
       "      <th>music</th>\n",
       "      <th>release date</th>\n",
       "      <th>runtime</th>\n",
       "      <th>country</th>\n",
       "      <th>language</th>\n",
       "      <th>budget</th>\n",
       "      <th>Score</th>\n",
       "    </tr>\n",
       "  </thead>\n",
       "  <tbody>\n",
       "    <tr>\n",
       "      <td>0</td>\n",
       "      <td>Love by the Light of the Moon - Wikipedia</td>\n",
       "      <td>Love by the Light of the Moon is a 1901 film b...</td>\n",
       "      <td>The moon, painted with a smiling face hangs ov...</td>\n",
       "      <td>Love by the Light of the Moon</td>\n",
       "      <td>Edwin S. Porter</td>\n",
       "      <td>NaN</td>\n",
       "      <td>NaN</td>\n",
       "      <td>NaN</td>\n",
       "      <td>NaN</td>\n",
       "      <td>1901 (1901)</td>\n",
       "      <td>NaN</td>\n",
       "      <td>United States</td>\n",
       "      <td>Silent</td>\n",
       "      <td>NaN</td>\n",
       "      <td>0.8</td>\n",
       "    </tr>\n",
       "  </tbody>\n",
       "</table>\n",
       "</div>"
      ],
      "text/plain": [
       "                                       title  \\\n",
       "0  Love by the Light of the Moon - Wikipedia   \n",
       "\n",
       "                                               intro  \\\n",
       "0  Love by the Light of the Moon is a 1901 film b...   \n",
       "\n",
       "                                                plot  \\\n",
       "0  The moon, painted with a smiling face hangs ov...   \n",
       "\n",
       "                       film_name         director  producer  written  \\\n",
       "0  Love by the Light of the Moon  Edwin S. Porter       NaN      NaN   \n",
       "\n",
       "   starring  music release date  runtime        country language  budget  \\\n",
       "0       NaN    NaN  1901 (1901)      NaN  United States   Silent     NaN   \n",
       "\n",
       "   Score  \n",
       "0    0.8  "
      ]
     },
     "execution_count": 41,
     "metadata": {},
     "output_type": "execute_result"
    }
   ],
   "source": [
    "result.sort_values(by=['Score'],ascending=False, kind='heapsort')"
   ]
  }
 ],
 "metadata": {
  "kernelspec": {
   "display_name": "Python 3",
   "language": "python",
   "name": "python3"
  },
  "language_info": {
   "codemirror_mode": {
    "name": "ipython",
    "version": 3
   },
   "file_extension": ".py",
   "mimetype": "text/x-python",
   "name": "python",
   "nbconvert_exporter": "python",
   "pygments_lexer": "ipython3",
   "version": "3.7.4"
  }
 },
 "nbformat": 4,
 "nbformat_minor": 2
}
